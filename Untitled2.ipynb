{
 "cells": [
  {
   "cell_type": "code",
   "execution_count": 48,
   "id": "839c235c",
   "metadata": {},
   "outputs": [],
   "source": [
    "import requests\n",
    "from bs4 import BeautifulSoup\n",
    "import csv\n",
    "players=[]\n",
    "def get_players(url):\n",
    "    response = requests.get(url)\n",
    "    soup = BeautifulSoup(response.text, 'html.parser')\n",
    "   \n",
    "    players = []\n",
    "   \n",
    "    # Assuming player names are within a specific class on Baseball Reference\n",
    "    player_elements = soup.find_all(class_='section_content')\n",
    "   \n",
    "    for player_element in player_elements:\n",
    "        player_name = player_element.get_text(strip=True)\n",
    "        players.append(player_name)\n",
    "   \n",
    "    return players\n",
    "\n",
    "def scrape_baseball_reference():\n",
    "    base_url = 'https://www.baseball-reference.com'\n",
    "   \n",
    "    # Replace this URL with the appropriate Baseball Reference page that lists all players\n",
    "    url = base_url + \"/register/player.fcgi?initial=aa\"\n",
    "   \n",
    "    all_players = get_players(url)\n",
    "    return all_players\n",
    "    # Save the player names to a CSV file\n",
    "    with open('baseball_players.csv', 'w', newline='', encoding='utf-8') as csvfile:\n",
    "        csv_writer = csv.writer(csvfile)\n",
    "        csv_writer.writerow(['Player Name'])\n",
    "        csv_writer.writerows([[player] for player in all_players])\n",
    "\n",
    "if __name__ == \"__main__\":\n",
    "    scrape_baseball_reference()"
   ]
  },
  {
   "cell_type": "code",
   "execution_count": 49,
   "id": "c083d735",
   "metadata": {
    "scrolled": true
   },
   "outputs": [],
   "source": [
    "list1=scrape_baseball_reference()"
   ]
  },
  {
   "cell_type": "code",
   "execution_count": 50,
   "id": "02e6e78f",
   "metadata": {},
   "outputs": [
    {
     "data": {
      "text/plain": [
       "['Al Aaberg,gn.Alfred Bernard,b.1911,d.1976,played1936Kirk Aadland,gn.Kirk Allan,b.1958,played1978Matthew AahlZach Aaker,played2012-2013Zach Aakhus,b.1984,played2009-2013Brady Aalbers,gn.Brady J.,b.1976,played1998Carter Aalbers,played2023Rylan Aamold,b.1999,played2021-2023Brian Aanderud,b.1989,played2012-2014Connor Aanderud,played2021Jerry Aanonsen,gn.Gerald Arthur,b.1950,played1968-1969Aaras,played1923David Aardsma,gn.David Allan,b.1981,played2003-2017Andrew AarnsCarrington Aaron,b.2004,played2023Ed Aaron,gn.Edward,played1917-1922Ging Aaron,gn.Oginga D.,b.1979,played1999-2003Henry Aaron,gn.Henry Louis,b.1934,d.2021,played1952-1976Lary Aaron,gn.Lawrence,b.1958,played1981-1982Melvin Aaron,gn.Melvin Carle,b.1949,d.2020,played1971Noah Aaron,played2021-2022Robert AaronTom Aaron,played2016-2018Tommie Aaron,gn.Tommie Lee,b.1939,d.1984,played1958-1973W.M. Aaron,gn.W. M.,played1914-1915Wil Aaron,gn.Wilmer Calvert,b.1952,played1971-1976Will AaronWillard Aaron,gn.Willard JackEric AaronsArchie Aaronson,gn.Archie A.,b.1889,d.1968,played1911Mark Aaronson,played2022-2023Don Aase,gn.Donald William,b.1954,played1972-1990Gil Aase,gn.Gilmar Arnold,b.1909,d.2004,played1932-1939Kermit Aase,gn.Kermit Reuben,b.1914,d.2003,played1937-1940Lynn Aase,gn.Lynn HoytCody Aasen,played2014',\n",
       " 'Baseball RegisterPlayersAffiliatesLeaguesTeamsBatting LeadersPitching Leaders']"
      ]
     },
     "execution_count": 50,
     "metadata": {},
     "output_type": "execute_result"
    }
   ],
   "source": [
    "list1"
   ]
  },
  {
   "cell_type": "code",
   "execution_count": 51,
   "id": "6bcec703",
   "metadata": {},
   "outputs": [],
   "source": [
    "\n",
    "for i in list1:\n",
    "    w=i\n",
    "    break\n",
    "    "
   ]
  },
  {
   "cell_type": "code",
   "execution_count": 52,
   "id": "9490cf67",
   "metadata": {},
   "outputs": [
    {
     "data": {
      "text/plain": [
       "'Al Aaberg,gn.Alfred Bernard,b.1911,d.1976,played1936Kirk Aadland,gn.Kirk Allan,b.1958,played1978Matthew AahlZach Aaker,played2012-2013Zach Aakhus,b.1984,played2009-2013Brady Aalbers,gn.Brady J.,b.1976,played1998Carter Aalbers,played2023Rylan Aamold,b.1999,played2021-2023Brian Aanderud,b.1989,played2012-2014Connor Aanderud,played2021Jerry Aanonsen,gn.Gerald Arthur,b.1950,played1968-1969Aaras,played1923David Aardsma,gn.David Allan,b.1981,played2003-2017Andrew AarnsCarrington Aaron,b.2004,played2023Ed Aaron,gn.Edward,played1917-1922Ging Aaron,gn.Oginga D.,b.1979,played1999-2003Henry Aaron,gn.Henry Louis,b.1934,d.2021,played1952-1976Lary Aaron,gn.Lawrence,b.1958,played1981-1982Melvin Aaron,gn.Melvin Carle,b.1949,d.2020,played1971Noah Aaron,played2021-2022Robert AaronTom Aaron,played2016-2018Tommie Aaron,gn.Tommie Lee,b.1939,d.1984,played1958-1973W.M. Aaron,gn.W. M.,played1914-1915Wil Aaron,gn.Wilmer Calvert,b.1952,played1971-1976Will AaronWillard Aaron,gn.Willard JackEric AaronsArchie Aaronson,gn.Archie A.,b.1889,d.1968,played1911Mark Aaronson,played2022-2023Don Aase,gn.Donald William,b.1954,played1972-1990Gil Aase,gn.Gilmar Arnold,b.1909,d.2004,played1932-1939Kermit Aase,gn.Kermit Reuben,b.1914,d.2003,played1937-1940Lynn Aase,gn.Lynn HoytCody Aasen,played2014'"
      ]
     },
     "execution_count": 52,
     "metadata": {},
     "output_type": "execute_result"
    }
   ],
   "source": [
    "w"
   ]
  },
  {
   "cell_type": "code",
   "execution_count": 53,
   "id": "8c7c2767",
   "metadata": {},
   "outputs": [],
   "source": [
    "list3=w.split(',')"
   ]
  },
  {
   "cell_type": "code",
   "execution_count": 47,
   "id": "a33b587e",
   "metadata": {},
   "outputs": [
    {
     "data": {
      "text/plain": [
       "[\"Scott A'Hara\", \"played2011A'Heasy\", 'played1901']"
      ]
     },
     "execution_count": 47,
     "metadata": {},
     "output_type": "execute_result"
    }
   ],
   "source": [
    "list2"
   ]
  },
  {
   "cell_type": "code",
   "execution_count": 54,
   "id": "63e2de13",
   "metadata": {},
   "outputs": [
    {
     "data": {
      "text/plain": [
       "['Al Aaberg',\n",
       " 'gn.Alfred Bernard',\n",
       " 'b.1911',\n",
       " 'd.1976',\n",
       " 'played1936Kirk Aadland',\n",
       " 'gn.Kirk Allan',\n",
       " 'b.1958',\n",
       " 'played1978Matthew AahlZach Aaker',\n",
       " 'played2012-2013Zach Aakhus',\n",
       " 'b.1984',\n",
       " 'played2009-2013Brady Aalbers',\n",
       " 'gn.Brady J.',\n",
       " 'b.1976',\n",
       " 'played1998Carter Aalbers',\n",
       " 'played2023Rylan Aamold',\n",
       " 'b.1999',\n",
       " 'played2021-2023Brian Aanderud',\n",
       " 'b.1989',\n",
       " 'played2012-2014Connor Aanderud',\n",
       " 'played2021Jerry Aanonsen',\n",
       " 'gn.Gerald Arthur',\n",
       " 'b.1950',\n",
       " 'played1968-1969Aaras',\n",
       " 'played1923David Aardsma',\n",
       " 'gn.David Allan',\n",
       " 'b.1981',\n",
       " 'played2003-2017Andrew AarnsCarrington Aaron',\n",
       " 'b.2004',\n",
       " 'played2023Ed Aaron',\n",
       " 'gn.Edward',\n",
       " 'played1917-1922Ging Aaron',\n",
       " 'gn.Oginga D.',\n",
       " 'b.1979',\n",
       " 'played1999-2003Henry Aaron',\n",
       " 'gn.Henry Louis',\n",
       " 'b.1934',\n",
       " 'd.2021',\n",
       " 'played1952-1976Lary Aaron',\n",
       " 'gn.Lawrence',\n",
       " 'b.1958',\n",
       " 'played1981-1982Melvin Aaron',\n",
       " 'gn.Melvin Carle',\n",
       " 'b.1949',\n",
       " 'd.2020',\n",
       " 'played1971Noah Aaron',\n",
       " 'played2021-2022Robert AaronTom Aaron',\n",
       " 'played2016-2018Tommie Aaron',\n",
       " 'gn.Tommie Lee',\n",
       " 'b.1939',\n",
       " 'd.1984',\n",
       " 'played1958-1973W.M. Aaron',\n",
       " 'gn.W. M.',\n",
       " 'played1914-1915Wil Aaron',\n",
       " 'gn.Wilmer Calvert',\n",
       " 'b.1952',\n",
       " 'played1971-1976Will AaronWillard Aaron',\n",
       " 'gn.Willard JackEric AaronsArchie Aaronson',\n",
       " 'gn.Archie A.',\n",
       " 'b.1889',\n",
       " 'd.1968',\n",
       " 'played1911Mark Aaronson',\n",
       " 'played2022-2023Don Aase',\n",
       " 'gn.Donald William',\n",
       " 'b.1954',\n",
       " 'played1972-1990Gil Aase',\n",
       " 'gn.Gilmar Arnold',\n",
       " 'b.1909',\n",
       " 'd.2004',\n",
       " 'played1932-1939Kermit Aase',\n",
       " 'gn.Kermit Reuben',\n",
       " 'b.1914',\n",
       " 'd.2003',\n",
       " 'played1937-1940Lynn Aase',\n",
       " 'gn.Lynn HoytCody Aasen',\n",
       " 'played2014']"
      ]
     },
     "execution_count": 54,
     "metadata": {},
     "output_type": "execute_result"
    }
   ],
   "source": [
    "list3"
   ]
  },
  {
   "cell_type": "code",
   "execution_count": 56,
   "id": "e905a5c9",
   "metadata": {},
   "outputs": [
    {
     "name": "stdout",
     "output_type": "stream",
     "text": [
      "played1901\n"
     ]
    }
   ],
   "source": [
    "for i in list2:\n",
    "    if i=='played1901':\n",
    "        print(i)"
   ]
  },
  {
   "cell_type": "code",
   "execution_count": null,
   "id": "eb9f8bfe",
   "metadata": {},
   "outputs": [],
   "source": []
  }
 ],
 "metadata": {
  "kernelspec": {
   "display_name": "Python 3 (ipykernel)",
   "language": "python",
   "name": "python3"
  },
  "language_info": {
   "codemirror_mode": {
    "name": "ipython",
    "version": 3
   },
   "file_extension": ".py",
   "mimetype": "text/x-python",
   "name": "python",
   "nbconvert_exporter": "python",
   "pygments_lexer": "ipython3",
   "version": "3.9.13"
  }
 },
 "nbformat": 4,
 "nbformat_minor": 5
}
